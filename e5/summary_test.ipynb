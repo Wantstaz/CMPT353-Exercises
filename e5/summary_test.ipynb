{
 "cells": [
  {
   "cell_type": "code",
   "execution_count": 1,
   "metadata": {},
   "outputs": [],
   "source": [
    "import sys\n",
    "import pandas as pd"
   ]
  },
  {
   "cell_type": "code",
   "execution_count": 2,
   "metadata": {},
   "outputs": [],
   "source": [
    "data_file = ['data-1.csv', 'data-2.csv', 'data-3.csv', 'data-4.csv', 'data-5.csv', 'data-6.csv']"
   ]
  },
  {
   "cell_type": "code",
   "execution_count": 3,
   "metadata": {},
   "outputs": [],
   "source": [
    "summary_txt = open('summary.txt', 'w')"
   ]
  },
  {
   "cell_type": "code",
   "execution_count": 4,
   "metadata": {},
   "outputs": [
    {
     "name": "stdout",
     "output_type": "stream",
     "text": [
      "mean of x is:  8.71769618641382\n",
      "mean of y is:  12.522874034702584\n",
      "std of x is:  12.155517231222024\n",
      "std of y is:  6.63996400756785\n",
      "range of x is:  57.87293327786024\n",
      "range of y is:  29.94924044421798\n",
      "correlation between x and y is:  0.9503256954375483\n",
      "\n",
      "\n",
      "\n",
      "mean of x is:  -0.7107871267159572\n",
      "mean of y is:  -0.7489869764497991\n",
      "std of x is:  11.481583587790734\n",
      "std of y is:  6.257917998755848\n",
      "range of x is:  60.9181134493271\n",
      "range of y is:  32.769118752736546\n",
      "correlation between x and y is:  0.9551531665750373\n",
      "\n",
      "\n",
      "\n",
      "mean of x is:  0.9689074904200939\n",
      "mean of y is:  8.508535236641327\n",
      "std of x is:  2.23555786105797\n",
      "std of y is:  1.1493008110024527\n",
      "range of x is:  6.967949247227911\n",
      "range of y is:  3.9101365324125537\n",
      "correlation between x and y is:  0.9819372646760661\n",
      "\n",
      "\n",
      "\n",
      "mean of x is:  49.90508614830509\n",
      "mean of y is:  18.553836525423726\n",
      "std of x is:  28.508610519881927\n",
      "std of y is:  16.545896442941686\n",
      "range of x is:  87.3767\n",
      "range of y is:  44.56504\n",
      "correlation between x and y is:  -0.08119306735490815\n",
      "\n",
      "\n",
      "\n",
      "mean of x is:  49.90999357843095\n",
      "mean of y is:  18.555524937729086\n",
      "std of x is:  28.500000943801364\n",
      "std of y is:  16.540796301840782\n",
      "range of x is:  86.71497088602307\n",
      "range of y is:  49.87869952875196\n",
      "correlation between x and y is:  -0.08823598983058888\n",
      "\n",
      "\n",
      "\n",
      "mean of x is:  7.21615517960992\n",
      "mean of y is:  7.602215028237295\n",
      "std of x is:  11.921599067458313\n",
      "std of y is:  11.764382455006647\n",
      "range of x is:  59.735959663269966\n",
      "range of y is:  59.03623102785603\n",
      "correlation between x and y is:  0.9350685662094906\n",
      "\n",
      "\n",
      "\n"
     ]
    }
   ],
   "source": [
    "for file_name in data_file:\n",
    "    \n",
    "    data = pd.read_csv(file_name)    \n",
    "    \n",
    "    print(\"mean of x is: \" , data.mean().x)\n",
    "    print(\"mean of y is: \" , data.mean().y)\n",
    "\n",
    "    print(\"std of x is: \" , data.std().x)\n",
    "    print(\"std of y is: \" , data.std().y)\n",
    "    \n",
    "    print(\"range of x is: \" , data.max().x - data.min().x)\n",
    "    print(\"range of y is: \" , data.max().y - data.min().y)\n",
    "\n",
    "    print(\"correlation between x and y is: \" , data['x'].corr(data['y']))\n",
    "    print(\"\\n\\n\")\n",
    "    \n",
    "    summary_txt.write(f\"Data file: {file_name}\\n\\n\")\n",
    "    summary_txt.write(f\" Mean (x): {data['x'].mean()}\\n Standard Deviation (x): {data['x'].std()}\\n Range (x): {data['x'].max() - data['x'].min()}\\n\\n\")\n",
    "    summary_txt.write(f\" Mean (y): {data['y'].mean()}\\n Standard Deviation (y): {data['y'].std()}\\n Range (y): {data['y'].max() - data['y'].min()}\\n\\n\")\n",
    "    summary_txt.write(f\" Correlation coefficient (x-y): {data['x'].corr(data['y'])}\\n\")\n",
    "    summary_txt.write(\"\\n\")"
   ]
  },
  {
   "cell_type": "code",
   "execution_count": 5,
   "metadata": {},
   "outputs": [],
   "source": [
    "summary_txt.close()"
   ]
  }
 ],
 "metadata": {
  "kernelspec": {
   "display_name": "Python 3 (ipykernel)",
   "language": "python",
   "name": "python3"
  },
  "language_info": {
   "codemirror_mode": {
    "name": "ipython",
    "version": 3
   },
   "file_extension": ".py",
   "mimetype": "text/x-python",
   "name": "python",
   "nbconvert_exporter": "python",
   "pygments_lexer": "ipython3",
   "version": "3.10.9"
  }
 },
 "nbformat": 4,
 "nbformat_minor": 2
}
