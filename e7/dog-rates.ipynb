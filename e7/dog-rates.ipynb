{
 "cells": [
  {
   "cell_type": "code",
   "execution_count": 2,
   "id": "c898593b",
   "metadata": {},
   "outputs": [],
   "source": [
    "import pandas as pd\n",
    "import matplotlib.pyplot as plt\n",
    "from scipy import stats"
   ]
  },
  {
   "cell_type": "code",
   "execution_count": 3,
   "id": "b6fa11e4",
   "metadata": {},
   "outputs": [],
   "source": [
    "# Load the data from the CSV into a DataFrame.\n",
    "data = pd.read_csv('dog_rates_tweets.csv', parse_dates=['created_at'])"
   ]
  },
  {
   "cell_type": "code",
   "execution_count": 4,
   "id": "99139fba",
   "metadata": {},
   "outputs": [],
   "source": [
    "# Find tweets that contain an “n/10” rating.  \n",
    "data['rating'] = data['text'].str.extract(r'(\\d+(\\.\\d+)?)/10', expand=False)[0]  "
   ]
  },
  {
   "cell_type": "code",
   "execution_count": 5,
   "id": "372638d0",
   "metadata": {},
   "outputs": [],
   "source": [
    "# Exclude tweets that don't contain a rating.\n",
    "data = data.dropna(subset=['rating'])"
   ]
  },
  {
   "cell_type": "code",
   "execution_count": 6,
   "id": "564ed98c",
   "metadata": {},
   "outputs": [],
   "source": [
    "# Remove outliers.\n",
    "data['rating'] = pd.to_numeric(data['rating'])\n",
    "data = data[data['rating'] <= 25]  "
   ]
  },
  {
   "cell_type": "code",
   "execution_count": 7,
   "id": "c7d5c1e3",
   "metadata": {},
   "outputs": [],
   "source": [
    "# Linear Fitting\n",
    "def to_timestamp(date):\n",
    "    return date.timestamp()\n",
    "\n",
    "data['timestamp'] = data['created_at'].apply(to_timestamp)\n",
    "fit = stats.linregress(data['timestamp'], data['rating'])"
   ]
  },
  {
   "cell_type": "markdown",
   "id": "319c85bc",
   "metadata": {},
   "source": [
    "## Results"
   ]
  },
  {
   "cell_type": "code",
   "execution_count": 8,
   "id": "39aa2dbb",
   "metadata": {},
   "outputs": [],
   "source": [
    "data['prediction'] = data['timestamp']*fit.slope + fit.intercept"
   ]
  },
  {
   "cell_type": "code",
   "execution_count": 9,
   "id": "478e3f3d",
   "metadata": {},
   "outputs": [
    {
     "data": {
      "text/html": [
       "<div>\n",
       "<style scoped>\n",
       "    .dataframe tbody tr th:only-of-type {\n",
       "        vertical-align: middle;\n",
       "    }\n",
       "\n",
       "    .dataframe tbody tr th {\n",
       "        vertical-align: top;\n",
       "    }\n",
       "\n",
       "    .dataframe thead th {\n",
       "        text-align: right;\n",
       "    }\n",
       "</style>\n",
       "<table border=\"1\" class=\"dataframe\">\n",
       "  <thead>\n",
       "    <tr style=\"text-align: right;\">\n",
       "      <th></th>\n",
       "      <th>id</th>\n",
       "      <th>created_at</th>\n",
       "      <th>text</th>\n",
       "      <th>rating</th>\n",
       "      <th>timestamp</th>\n",
       "      <th>prediction</th>\n",
       "    </tr>\n",
       "  </thead>\n",
       "  <tbody>\n",
       "    <tr>\n",
       "      <th>2</th>\n",
       "      <td>994363623421153280</td>\n",
       "      <td>2018-05-09 23:48:56</td>\n",
       "      <td>This is Louie. He has misplaced his Cheerio. W...</td>\n",
       "      <td>14.0</td>\n",
       "      <td>1.525935e+09</td>\n",
       "      <td>12.303514</td>\n",
       "    </tr>\n",
       "    <tr>\n",
       "      <th>7</th>\n",
       "      <td>993889039714578432</td>\n",
       "      <td>2018-05-08 16:23:07</td>\n",
       "      <td>This is Manny. He hasn’t seen your croissant. ...</td>\n",
       "      <td>13.0</td>\n",
       "      <td>1.525822e+09</td>\n",
       "      <td>12.301817</td>\n",
       "    </tr>\n",
       "    <tr>\n",
       "      <th>8</th>\n",
       "      <td>993629544463642624</td>\n",
       "      <td>2018-05-07 23:11:58</td>\n",
       "      <td>This is Libby. She leap. 14/10\\n(IG: libbythef...</td>\n",
       "      <td>14.0</td>\n",
       "      <td>1.525760e+09</td>\n",
       "      <td>12.300888</td>\n",
       "    </tr>\n",
       "    <tr>\n",
       "      <th>24</th>\n",
       "      <td>992198572664860672</td>\n",
       "      <td>2018-05-04 00:25:48</td>\n",
       "      <td>This is Rosie. She thought Coachella was this ...</td>\n",
       "      <td>13.0</td>\n",
       "      <td>1.525419e+09</td>\n",
       "      <td>12.295770</td>\n",
       "    </tr>\n",
       "    <tr>\n",
       "      <th>30</th>\n",
       "      <td>991744041351090177</td>\n",
       "      <td>2018-05-02 18:19:39</td>\n",
       "      <td>This is Riley. He’ll be your chauffeur this ev...</td>\n",
       "      <td>13.0</td>\n",
       "      <td>1.525310e+09</td>\n",
       "      <td>12.294144</td>\n",
       "    </tr>\n",
       "    <tr>\n",
       "      <th>...</th>\n",
       "      <td>...</td>\n",
       "      <td>...</td>\n",
       "      <td>...</td>\n",
       "      <td>...</td>\n",
       "      <td>...</td>\n",
       "      <td>...</td>\n",
       "    </tr>\n",
       "    <tr>\n",
       "      <th>14885</th>\n",
       "      <td>1275493485085245440</td>\n",
       "      <td>2020-06-23 18:18:39+00:00</td>\n",
       "      <td>This is Ruth. She was spotted at a rally doing...</td>\n",
       "      <td>14.0</td>\n",
       "      <td>1.592936e+09</td>\n",
       "      <td>13.308733</td>\n",
       "    </tr>\n",
       "    <tr>\n",
       "      <th>14895</th>\n",
       "      <td>1275102054608855040</td>\n",
       "      <td>2020-06-22 16:23:14+00:00</td>\n",
       "      <td>This is Narcos. He is very angry with you. The...</td>\n",
       "      <td>13.0</td>\n",
       "      <td>1.592843e+09</td>\n",
       "      <td>13.307333</td>\n",
       "    </tr>\n",
       "    <tr>\n",
       "      <th>14896</th>\n",
       "      <td>1274821722584125442</td>\n",
       "      <td>2020-06-21 21:49:18+00:00</td>\n",
       "      <td>@PatrickKenneyMD omg i’d say 13/10 but i’d hat...</td>\n",
       "      <td>13.0</td>\n",
       "      <td>1.592776e+09</td>\n",
       "      <td>13.306330</td>\n",
       "    </tr>\n",
       "    <tr>\n",
       "      <th>14906</th>\n",
       "      <td>1273774320519483392</td>\n",
       "      <td>2020-06-19 00:27:18+00:00</td>\n",
       "      <td>This is Oakley. He’s on his way home for the f...</td>\n",
       "      <td>12.0</td>\n",
       "      <td>1.592526e+09</td>\n",
       "      <td>13.302583</td>\n",
       "    </tr>\n",
       "    <tr>\n",
       "      <th>14917</th>\n",
       "      <td>1273345579829977088</td>\n",
       "      <td>2020-06-17 20:03:38+00:00</td>\n",
       "      <td>Not all superheroes wear capes, but this one d...</td>\n",
       "      <td>14.0</td>\n",
       "      <td>1.592424e+09</td>\n",
       "      <td>13.301050</td>\n",
       "    </tr>\n",
       "  </tbody>\n",
       "</table>\n",
       "<p>2116 rows × 6 columns</p>\n",
       "</div>"
      ],
      "text/plain": [
       "                        id                 created_at  \\\n",
       "2       994363623421153280        2018-05-09 23:48:56   \n",
       "7       993889039714578432        2018-05-08 16:23:07   \n",
       "8       993629544463642624        2018-05-07 23:11:58   \n",
       "24      992198572664860672        2018-05-04 00:25:48   \n",
       "30      991744041351090177        2018-05-02 18:19:39   \n",
       "...                    ...                        ...   \n",
       "14885  1275493485085245440  2020-06-23 18:18:39+00:00   \n",
       "14895  1275102054608855040  2020-06-22 16:23:14+00:00   \n",
       "14896  1274821722584125442  2020-06-21 21:49:18+00:00   \n",
       "14906  1273774320519483392  2020-06-19 00:27:18+00:00   \n",
       "14917  1273345579829977088  2020-06-17 20:03:38+00:00   \n",
       "\n",
       "                                                    text  rating  \\\n",
       "2      This is Louie. He has misplaced his Cheerio. W...    14.0   \n",
       "7      This is Manny. He hasn’t seen your croissant. ...    13.0   \n",
       "8      This is Libby. She leap. 14/10\\n(IG: libbythef...    14.0   \n",
       "24     This is Rosie. She thought Coachella was this ...    13.0   \n",
       "30     This is Riley. He’ll be your chauffeur this ev...    13.0   \n",
       "...                                                  ...     ...   \n",
       "14885  This is Ruth. She was spotted at a rally doing...    14.0   \n",
       "14895  This is Narcos. He is very angry with you. The...    13.0   \n",
       "14896  @PatrickKenneyMD omg i’d say 13/10 but i’d hat...    13.0   \n",
       "14906  This is Oakley. He’s on his way home for the f...    12.0   \n",
       "14917  Not all superheroes wear capes, but this one d...    14.0   \n",
       "\n",
       "          timestamp  prediction  \n",
       "2      1.525935e+09   12.303514  \n",
       "7      1.525822e+09   12.301817  \n",
       "8      1.525760e+09   12.300888  \n",
       "24     1.525419e+09   12.295770  \n",
       "30     1.525310e+09   12.294144  \n",
       "...             ...         ...  \n",
       "14885  1.592936e+09   13.308733  \n",
       "14895  1.592843e+09   13.307333  \n",
       "14896  1.592776e+09   13.306330  \n",
       "14906  1.592526e+09   13.302583  \n",
       "14917  1.592424e+09   13.301050  \n",
       "\n",
       "[2116 rows x 6 columns]"
      ]
     },
     "execution_count": 9,
     "metadata": {},
     "output_type": "execute_result"
    }
   ],
   "source": [
    "data"
   ]
  },
  {
   "cell_type": "code",
   "execution_count": 10,
   "id": "64d10362",
   "metadata": {},
   "outputs": [
    {
     "data": {
      "text/plain": [
       "(1.500295334373573e-08, -10.590016533606498)"
      ]
     },
     "execution_count": 10,
     "metadata": {},
     "output_type": "execute_result"
    }
   ],
   "source": [
    "fit.slope, fit.intercept"
   ]
  },
  {
   "cell_type": "code",
   "execution_count": 11,
   "id": "65907f2c",
   "metadata": {},
   "outputs": [
    {
     "data": {
      "image/png": "[encoded data removed]",
      "text/plain": [
       "<Figure size 640x480 with 1 Axes>"
      ]
     },
     "metadata": {},
     "output_type": "display_data"
    }
   ],
   "source": [
    "plt.xticks(rotation=25)\n",
    "plt.plot(data['created_at'], data['rating'], 'b.', alpha=0.5)\n",
    "plt.plot(data['created_at'], data['prediction'], 'r-', linewidth=3)\n",
    "plt.show()"
   ]
  },
  {
   "cell_type": "markdown",
   "id": "c54ae78a",
   "metadata": {},
   "source": [
    "## Exercise 7 - Dog Rates Significance"
   ]
  },
  {
   "cell_type": "code",
   "execution_count": 12,
   "id": "c10cb1f6",
   "metadata": {},
   "outputs": [
    {
     "data": {
      "text/plain": [
       "2.536058725135304e-127"
      ]
     },
     "execution_count": 12,
     "metadata": {},
     "output_type": "execute_result"
    }
   ],
   "source": [
    "# Output the p-value from the regression for the question “is the slope different from zero?”. \n",
    "fit.pvalue"
   ]
  },
  {
   "cell_type": "code",
   "execution_count": 13,
   "id": "9d17a233",
   "metadata": {},
   "outputs": [
    {
     "data": {
      "image/png": "[encoded data removed]",
      "text/plain": [
       "<Figure size 640x480 with 1 Axes>"
      ]
     },
     "metadata": {},
     "output_type": "display_data"
    }
   ],
   "source": [
    "# Plot a histogram of the residuals.\n",
    "plt.hist(data['rating'] - data['prediction'], bins=20) # observed values minus predicted values\n",
    "plt.xlabel(\"tweets.residuals\")\n",
    "plt.show()"
   ]
  }
 ],
 "metadata": {
  "kernelspec": {
   "display_name": "Python 3 (ipykernel)",
   "language": "python",
   "name": "python3"
  },
  "language_info": {
   "codemirror_mode": {
    "name": "ipython",
    "version": 3
   },
   "file_extension": ".py",
   "mimetype": "text/x-python",
   "name": "python",
   "nbconvert_exporter": "python",
   "pygments_lexer": "ipython3",
   "version": "3.10.9"
  }
 },
 "nbformat": 4,
 "nbformat_minor": 5
}
